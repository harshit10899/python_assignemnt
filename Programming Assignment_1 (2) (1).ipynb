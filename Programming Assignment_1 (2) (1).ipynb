{
 "cells": [
  {
   "cell_type": "markdown",
   "id": "637b47a5",
   "metadata": {},
   "source": [
    "## Programming Assignment_1\n",
    "-------------"
   ]
  },
  {
   "cell_type": "markdown",
   "id": "0c647dbe",
   "metadata": {},
   "source": [
    "### 1. Write a Python program to print \"Hello Python\"?"
   ]
  },
  {
   "cell_type": "code",
   "execution_count": 1,
   "id": "1eac5247",
   "metadata": {},
   "outputs": [
    {
     "name": "stdout",
     "output_type": "stream",
     "text": [
      "hello python\n"
     ]
    }
   ],
   "source": [
    "print(\"hello python\")"
   ]
  },
  {
   "cell_type": "markdown",
   "id": "fc18a6cd",
   "metadata": {},
   "source": [
    "### 2. Write a Python program to do arithmetical operations addition and division.?\n"
   ]
  },
  {
   "cell_type": "code",
   "execution_count": 27,
   "id": "cbf409f0",
   "metadata": {},
   "outputs": [
    {
     "name": "stdout",
     "output_type": "stream",
     "text": [
      "enter first number 20\n",
      "enter second number 10\n",
      "sum of two number is 30\n",
      "division of two number is 2.0\n"
     ]
    }
   ],
   "source": [
    "num1 = int(input(\"enter first number \"))\n",
    "num2 = int(input(\"enter second number \"))\n",
    "sum  = str(num1 + num2)\n",
    "div = str(num1/num2)\n",
    "print(\"sum of two number is \" +sum)\n",
    "print(\"division of two number is \" +div)"
   ]
  },
  {
   "cell_type": "markdown",
   "id": "af6e2429",
   "metadata": {},
   "source": [
    "### 3. Write a Python program to find the area of a triangle?\n"
   ]
  },
  {
   "cell_type": "code",
   "execution_count": 25,
   "id": "acf02332",
   "metadata": {},
   "outputs": [
    {
     "name": "stdout",
     "output_type": "stream",
     "text": [
      "length of first side is 10\n",
      "length of second side is10\n",
      "length of third side is 10\n",
      "area is 937.5\n"
     ]
    }
   ],
   "source": [
    "a = int(input(\"length of first side is \"))\n",
    "b = int(input(\"length of second side is\"))\n",
    "c = int(input(\"length of third side is \"))\n",
    "s = ( a + b + c ) / 2\n",
    "area = str(( s *( s - a )* ( s - b )* ( s - c) ) ** 1 / 2)\n",
    "print(\"area is \" + area)\n"
   ]
  },
  {
   "cell_type": "markdown",
   "id": "b8140061",
   "metadata": {},
   "source": [
    "### 4. Write a Python program to swap two variables?\n"
   ]
  },
  {
   "cell_type": "code",
   "execution_count": 10,
   "id": "cd04474d",
   "metadata": {},
   "outputs": [
    {
     "name": "stdout",
     "output_type": "stream",
     "text": [
      "fisrt variable first number\n",
      "second variable second number\n",
      "second number\n",
      "first number\n"
     ]
    }
   ],
   "source": [
    "a = input(\"fisrt variable \")\n",
    "b = input(\"second variable \")\n",
    "c = a\n",
    "a = b\n",
    "b = c\n",
    "\n",
    "print(a)\n",
    "print(b)"
   ]
  },
  {
   "cell_type": "markdown",
   "id": "cd0bdc10",
   "metadata": {},
   "source": [
    "# 5. Write a Python program to generate a random number?\n"
   ]
  },
  {
   "cell_type": "code",
   "execution_count": 21,
   "id": "0d2a9889",
   "metadata": {},
   "outputs": [
    {
     "name": "stdout",
     "output_type": "stream",
     "text": [
      "42975\n"
     ]
    }
   ],
   "source": [
    "import numpy as np\n",
    "print(np.random.randint(1,1000e2))"
   ]
  }
 ],
 "metadata": {
  "kernelspec": {
   "display_name": "Python 3 (ipykernel)",
   "language": "python",
   "name": "python3"
  },
  "language_info": {
   "codemirror_mode": {
    "name": "ipython",
    "version": 3
   },
   "file_extension": ".py",
   "mimetype": "text/x-python",
   "name": "python",
   "nbconvert_exporter": "python",
   "pygments_lexer": "ipython3",
   "version": "3.9.7"
  }
 },
 "nbformat": 4,
 "nbformat_minor": 5
}
