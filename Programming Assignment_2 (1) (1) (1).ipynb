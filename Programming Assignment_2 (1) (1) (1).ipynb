{
 "cells": [
  {
   "cell_type": "markdown",
   "id": "08c66ea5",
   "metadata": {},
   "source": [
    "## Programming Assignment_2\n",
    "-------------"
   ]
  },
  {
   "cell_type": "markdown",
   "id": "4e50cf42",
   "metadata": {},
   "source": [
    "### 1. Write a Python program to convert kilometers to miles?\n"
   ]
  },
  {
   "cell_type": "code",
   "execution_count": 10,
   "id": "17059827",
   "metadata": {},
   "outputs": [
    {
     "name": "stdout",
     "output_type": "stream",
     "text": [
      "how many kilo meter 10\n",
      "KM  to miles is 6.21371\n"
     ]
    }
   ],
   "source": [
    "a = int(input(\"how many kilo meter \"))\n",
    "b = str((a)*0.621371)\n",
    "print(\"KM  to miles is \" + b)"
   ]
  },
  {
   "cell_type": "markdown",
   "id": "0df4e6bf",
   "metadata": {},
   "source": [
    "### 2.Write a Python program to convert Celsius to Fahrenheit?"
   ]
  },
  {
   "cell_type": "code",
   "execution_count": 26,
   "id": "922cd5c6",
   "metadata": {},
   "outputs": [
    {
     "name": "stdout",
     "output_type": "stream",
     "text": [
      "celsius in degree celsius 10\n",
      "fahrenheit in degree fahrenheit is  50.0\n"
     ]
    }
   ],
   "source": [
    "c = int(input(\"celsius in degree celsius \")) #(30°C x 1.8) + 32 = 86°F\n",
    "f = (c * 1.8) + 32\n",
    "print(\"fahrenheit in degree fahrenheit is \",f)"
   ]
  },
  {
   "cell_type": "markdown",
   "id": "46129b8e",
   "metadata": {},
   "source": [
    "### 3. Write a Python program to display calendar?\n"
   ]
  },
  {
   "cell_type": "code",
   "execution_count": 23,
   "id": "4951bad1",
   "metadata": {},
   "outputs": [
    {
     "name": "stdout",
     "output_type": "stream",
     "text": [
      "Input the year : 2018\n",
      "Input the month : 5\n",
      "      May 2018\n",
      "Mo Tu We Th Fr Sa Su\n",
      "    1  2  3  4  5  6\n",
      " 7  8  9 10 11 12 13\n",
      "14 15 16 17 18 19 20\n",
      "21 22 23 24 25 26 27\n",
      "28 29 30 31\n",
      "\n"
     ]
    }
   ],
   "source": [
    "import calendar\n",
    "y = int(input(\"Input the year : \"))\n",
    "m = int(input(\"Input the month : \"))\n",
    "print(calendar.month(y, m))"
   ]
  },
  {
   "cell_type": "markdown",
   "id": "db2bf0f7",
   "metadata": {},
   "source": [
    "### 4. Write a Python program to solve quadratic equation?"
   ]
  },
  {
   "cell_type": "code",
   "execution_count": 25,
   "id": "0cccba94",
   "metadata": {},
   "outputs": [
    {
     "name": "stdout",
     "output_type": "stream",
     "text": [
      "enter first given number 1\n",
      "enter second given number 6\n",
      "enter third given number 8\n",
      "first solution is  -2.0\n",
      "second solution is  -4.0\n"
     ]
    }
   ],
   "source": [
    "a = int(input(\"enter first given number \"))\n",
    "b = int(input(\"enter second given number \"))\n",
    "c = int(input(\"enter third given number \"))\n",
    "#x = −b ± √(b2 − 4ac) 2a \n",
    "x1 = ((b * b - 4*a*c)**1/2 - b )/2*a\n",
    "x2 = (-(b * b - 4*a*c)**1/2 - b )/2*a\n",
    "print(\"first solution is \",x1)\n",
    "print(\"second solution is \",x2)"
   ]
  },
  {
   "cell_type": "markdown",
   "id": "f70f74c9",
   "metadata": {},
   "source": [
    "### 5. Write a Python program to swap two variables without temp variable?"
   ]
  },
  {
   "cell_type": "code",
   "execution_count": 22,
   "id": "9d3ca26c",
   "metadata": {},
   "outputs": [
    {
     "name": "stdout",
     "output_type": "stream",
     "text": [
      "first variable 1\n",
      "second variable 4\n",
      "swap of first variable gives 4\n",
      "swap of second variable gives  1\n"
     ]
    }
   ],
   "source": [
    "a = input(\"first variable \")\n",
    "b = input(\"second variable \")\n",
    "a, b = b, a\n",
    "print(\"swap of first variable gives\",a)\n",
    "print(\"swap of second variable gives \",b)\n"
   ]
  }
 ],
 "metadata": {
  "kernelspec": {
   "display_name": "Python 3 (ipykernel)",
   "language": "python",
   "name": "python3"
  },
  "language_info": {
   "codemirror_mode": {
    "name": "ipython",
    "version": 3
   },
   "file_extension": ".py",
   "mimetype": "text/x-python",
   "name": "python",
   "nbconvert_exporter": "python",
   "pygments_lexer": "ipython3",
   "version": "3.9.7"
  }
 },
 "nbformat": 4,
 "nbformat_minor": 5
}
