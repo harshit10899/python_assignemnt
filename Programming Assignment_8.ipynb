{
 "cells": [
  {
   "cell_type": "markdown",
   "id": "9b304197",
   "metadata": {},
   "source": [
    "# Python Basic Programming Assignment 8"
   ]
  },
  {
   "cell_type": "code",
   "execution_count": 17,
   "id": "772c0bdd",
   "metadata": {},
   "outputs": [],
   "source": [
    "import numpy as np\n",
    "\n",
    "a = np.array([[2,2],[4,4]])\n",
    "b = np.array([[1,1],[3,3]])\n",
    "alpha = ['d','f','y','w','a','o','p']\n",
    "string =  \"Python-Basic:Programming'Assignment,8\""
   ]
  },
  {
   "cell_type": "markdown",
   "id": "22789ae6",
   "metadata": {},
   "source": [
    "### 1. Write a Python Program to Add Two Matrices?"
   ]
  },
  {
   "cell_type": "code",
   "execution_count": 3,
   "id": "81e9b01b",
   "metadata": {},
   "outputs": [
    {
     "data": {
      "text/plain": [
       "array([[3, 3],\n",
       "       [7, 7]])"
      ]
     },
     "execution_count": 3,
     "metadata": {},
     "output_type": "execute_result"
    }
   ],
   "source": [
    "np.add(a,b)"
   ]
  },
  {
   "cell_type": "markdown",
   "id": "044ceda6",
   "metadata": {},
   "source": [
    "### 2. Write a Python Program to Multiply Two Matrices?"
   ]
  },
  {
   "cell_type": "code",
   "execution_count": 7,
   "id": "4ce4ae2f",
   "metadata": {},
   "outputs": [
    {
     "data": {
      "text/plain": [
       "array([[ 2,  2],\n",
       "       [12, 12]])"
      ]
     },
     "execution_count": 7,
     "metadata": {},
     "output_type": "execute_result"
    }
   ],
   "source": [
    "\n",
    "np.multiply(a,b)"
   ]
  },
  {
   "cell_type": "markdown",
   "id": "5f688e46",
   "metadata": {},
   "source": [
    "### 3. Write a Python Program to Transpose a Matrix?"
   ]
  },
  {
   "cell_type": "code",
   "execution_count": 10,
   "id": "0c541bf3",
   "metadata": {},
   "outputs": [
    {
     "name": "stdout",
     "output_type": "stream",
     "text": [
      "ORIGINAL MATRIX  [[2 2]\n",
      " [4 4]]\n",
      "TRANSPOSED MATRIX  [[2 4]\n",
      " [2 4]]\n"
     ]
    }
   ],
   "source": [
    "print(\"ORIGINAL MATRIX \",a)\n",
    "c = a.transpose()\n",
    "print(\"TRANSPOSED MATRIX \",c)"
   ]
  },
  {
   "cell_type": "markdown",
   "id": "b2849025",
   "metadata": {},
   "source": [
    "\n",
    "### 4. Write a Python Program to Sort Words in Alphabetic Order?\n"
   ]
  },
  {
   "cell_type": "code",
   "execution_count": 16,
   "id": "78d6046b",
   "metadata": {},
   "outputs": [
    {
     "name": "stdout",
     "output_type": "stream",
     "text": [
      "['a' 'd' 'f' 'o' 'p' 'w' 'y']\n"
     ]
    }
   ],
   "source": [
    "d =np.sort(alpha)\n",
    "print(d)"
   ]
  },
  {
   "cell_type": "markdown",
   "id": "48ac7b24",
   "metadata": {},
   "source": [
    "### 5. Write a Python Program to Remove Punctuation From a String?"
   ]
  },
  {
   "cell_type": "code",
   "execution_count": 18,
   "id": "56c36fb9",
   "metadata": {},
   "outputs": [
    {
     "name": "stdout",
     "output_type": "stream",
     "text": [
      "PythonBasicProgrammingAssignment8\n"
     ]
    }
   ],
   "source": [
    "punctuation = '''!()-[]{};:'\"\\,<>./?@#$%^&*_~'''\n",
    "no_punct = \"\"\n",
    "for i in string:\n",
    "    if i not in punctuation:\n",
    "        no_punct = no_punct + i\n",
    "\n",
    "print(no_punct)\n"
   ]
  }
 ],
 "metadata": {
  "kernelspec": {
   "display_name": "Python 3 (ipykernel)",
   "language": "python",
   "name": "python3"
  },
  "language_info": {
   "codemirror_mode": {
    "name": "ipython",
    "version": 3
   },
   "file_extension": ".py",
   "mimetype": "text/x-python",
   "name": "python",
   "nbconvert_exporter": "python",
   "pygments_lexer": "ipython3",
   "version": "3.9.7"
  }
 },
 "nbformat": 4,
 "nbformat_minor": 5
}
