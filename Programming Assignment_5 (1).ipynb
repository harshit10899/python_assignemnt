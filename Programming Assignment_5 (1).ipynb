{
 "cells": [
  {
   "cell_type": "markdown",
   "id": "4ac9602a",
   "metadata": {},
   "source": [
    "## Python Basic Programming Assignment - 5\n",
    "--------------\n"
   ]
  },
  {
   "cell_type": "markdown",
   "id": "fdaeee06",
   "metadata": {},
   "source": [
    "### 1. Write a Python Program to Find LCM?"
   ]
  },
  {
   "cell_type": "code",
   "execution_count": 6,
   "id": "446a635d",
   "metadata": {},
   "outputs": [
    {
     "name": "stdout",
     "output_type": "stream",
     "text": [
      "12\n",
      "18\n"
     ]
    },
    {
     "data": {
      "text/plain": [
       "36"
      ]
     },
     "execution_count": 6,
     "metadata": {},
     "output_type": "execute_result"
    }
   ],
   "source": [
    "def compute_lcm(x, y):\n",
    "    if x > y:       \n",
    "        greater = x\n",
    "    \n",
    "    else:\n",
    "        greater = y\n",
    "\n",
    "    while(True):\n",
    "        if((greater % x == 0) and (greater % y == 0)):\n",
    "            lcm = greater\n",
    "            break\n",
    "        greater += 1\n",
    "\n",
    "    return lcm\n",
    "num1 = int(input())\n",
    "num2 = int(input())\n",
    "\n",
    "compute_lcm(num1, num2)\n"
   ]
  },
  {
   "cell_type": "markdown",
   "id": "2f459cdf",
   "metadata": {},
   "source": [
    "### 2. Write a Python Program to Find HCF?"
   ]
  },
  {
   "cell_type": "code",
   "execution_count": 1,
   "id": "3ee390d7",
   "metadata": {},
   "outputs": [
    {
     "name": "stdout",
     "output_type": "stream",
     "text": [
      "15\n",
      "12\n",
      "The H.C.F. is 3\n"
     ]
    }
   ],
   "source": [
    "def compute_hcf(x, y):\n",
    "    if x > y:\n",
    "        smaller = y\n",
    "    else:\n",
    "        smaller = x\n",
    "    for i in range(1, smaller+1):\n",
    "        if((x % i == 0) and (y % i == 0)):\n",
    "            hcf = i \n",
    "    return hcf\n",
    "\n",
    "num1 = int(input(\"\")) \n",
    "num2 = int(input(\"\"))\n",
    "\n",
    "print(\"The H.C.F. is\", compute_hcf(num1, num2))"
   ]
  },
  {
   "cell_type": "markdown",
   "id": "d2c29370",
   "metadata": {},
   "source": [
    "### 3. Write a Python Program to Convert Decimal to Binary, Octal and Hexadecimal?"
   ]
  },
  {
   "cell_type": "code",
   "execution_count": 3,
   "id": "f869b482",
   "metadata": {},
   "outputs": [
    {
     "name": "stdout",
     "output_type": "stream",
     "text": [
      "Enter the decimal number 15\n",
      "The decimal value of 15 is:\n",
      "0b1111 in binary.\n",
      "0o17 in octal.\n",
      "0xf in hexadecimal.\n"
     ]
    }
   ],
   "source": [
    "deci = int(input(\"Enter the decimal number \")) \n",
    "\n",
    "print(\"The decimal value of\", deci, \"is:\")\n",
    "print(bin(deci), \"in binary.\")\n",
    "print(oct(deci), \"in octal.\")\n",
    "print(hex(deci), \"in hexadecimal.\")"
   ]
  },
  {
   "cell_type": "markdown",
   "id": "2a16c5fd",
   "metadata": {},
   "source": [
    "### 4. Write a Python Program To Find ASCII value of a character?"
   ]
  },
  {
   "cell_type": "code",
   "execution_count": 4,
   "id": "842a99a8",
   "metadata": {},
   "outputs": [
    {
     "name": "stdout",
     "output_type": "stream",
     "text": [
      "enter the charter g\n",
      "The ASCII value of 'g' is 103\n"
     ]
    }
   ],
   "source": [
    "char = input(\"enter the charter \")\n",
    "print(\"The ASCII value of '\" + char + \"' is\", ord(char))"
   ]
  },
  {
   "cell_type": "markdown",
   "id": "226778a0",
   "metadata": {},
   "source": [
    "### 5. Write a Python Program to Make a Simple Calculator with 4 basic mathematical operations?"
   ]
  },
  {
   "cell_type": "code",
   "execution_count": 5,
   "id": "d00d87dc",
   "metadata": {},
   "outputs": [
    {
     "name": "stdout",
     "output_type": "stream",
     "text": [
      "Addition of two number is  9\n",
      "Subtraction of two number is   3\n",
      "Multiplication of two number is  18\n",
      "Division of two number is  2.0\n"
     ]
    }
   ],
   "source": [
    "def add(a,b):\n",
    "    add = a + b\n",
    "    print(\"Addition of two number is \",add)\n",
    "def subt(a,b):\n",
    "    subt = a - b\n",
    "    print(\"Subtraction of two number is  \",subt)\n",
    "def multi(a,b):\n",
    "    multi = a*b\n",
    "    print(\"Multiplication of two number is \",multi)\n",
    "def div(a,b):\n",
    "    div = a/b\n",
    "    print(\"Division of two number is \",div)\n",
    "    \n",
    "add(6,3)\n",
    "subt(6,3)\n",
    "multi(6,3)\n",
    "div(6,3)"
   ]
  }
 ],
 "metadata": {
  "kernelspec": {
   "display_name": "Python 3 (ipykernel)",
   "language": "python",
   "name": "python3"
  },
  "language_info": {
   "codemirror_mode": {
    "name": "ipython",
    "version": 3
   },
   "file_extension": ".py",
   "mimetype": "text/x-python",
   "name": "python",
   "nbconvert_exporter": "python",
   "pygments_lexer": "ipython3",
   "version": "3.9.7"
  }
 },
 "nbformat": 4,
 "nbformat_minor": 5
}
